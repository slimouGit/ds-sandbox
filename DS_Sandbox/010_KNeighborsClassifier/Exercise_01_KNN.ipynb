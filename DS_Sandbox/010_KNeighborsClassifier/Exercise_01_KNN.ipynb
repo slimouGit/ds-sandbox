{
 "cells": [
  {
   "cell_type": "code",
   "execution_count": 1,
   "metadata": {},
   "outputs": [],
   "source": [
    "import pandas as pd\n",
    "import numpy as np\n",
    "np.random.seed(42)\n",
    "from sklearn.datasets import load_iris\n",
    "from scipy.spatial import distance\n",
    "iris = load_iris()"
   ]
  },
  {
   "cell_type": "markdown",
   "metadata": {},
   "source": [
    "# prepare dataset"
   ]
  },
  {
   "cell_type": "code",
   "execution_count": 2,
   "metadata": {},
   "outputs": [],
   "source": [
    "data = iris.data\n",
    "labels = iris.target\n",
    "names = iris.target_names"
   ]
  },
  {
   "cell_type": "markdown",
   "metadata": {},
   "source": [
    "# implement the knn class"
   ]
  },
  {
   "cell_type": "code",
   "execution_count": 3,
   "metadata": {},
   "outputs": [],
   "source": [
    "class KNeighborsClassifier:\n",
    "    def __init__(self, k: int, data: np.ndarray, names: list, labels: np.ndarray, test_data: list):\n",
    "        self.k = k\n",
    "        self.data = data\n",
    "        self.names = names\n",
    "        self.labels = labels\n",
    "        self.test_data = test_data\n",
    "\n",
    "        normalized_data = self.normalizeData()\n",
    "        distances = self.euclideanDistance()\n",
    "        sorted_distances = self.sortDistances(distances)\n",
    "        nNeighbors = self.determineNeighbors(sorted_distances, labels)\n",
    "\n",
    "        print('The {} closest neighbors of searched class {} are:'.format(self.k, self.test_data))\n",
    "        for name in nNeighbors:\n",
    "            print(\"class: \", names[name])\n",
    "\n",
    "        self.determinePropability(nNeighbors)\n",
    "\n",
    "    def normalizeData(self):\n",
    "        x = self.data\n",
    "        data_min = np.min(x, axis=0)\n",
    "        data_max = np.max(x, axis=0)\n",
    "        x_transformed = (x - data_min) / (data_max - data_min)\n",
    "        return x_transformed\n",
    "\n",
    "    def euclideanDistance(self):\n",
    "        distances = list()\n",
    "        for i in self.data:\n",
    "            distances.append(distance.euclidean(i, self.test_data))\n",
    "        return distances\n",
    "\n",
    "    def sortDistances(self, x:list):\n",
    "        return np.argsort(x)\n",
    "\n",
    "    def determineNeighbors(self, distances: np.ndarray, y: np.ndarray):\n",
    "        targetList = list()\n",
    "        neighbors = distances[0:self.k]\n",
    "        for i in neighbors:\n",
    "            targetList.append(y[i])\n",
    "        return targetList\n",
    "\n",
    "    def determinePropability(self, nNeighbors:list):\n",
    "        amount = len(nNeighbors)\n",
    "        closedNeighbor = nNeighbors[0]\n",
    "        occurrences = nNeighbors.count(closedNeighbor)\n",
    "        propability = occurrences/amount\n",
    "        print('Propability for {} by examine next {} neighbors is {} %'.format(self.names[closedNeighbor], self.k, propability*100))\n"
   ]
  },
  {
   "cell_type": "markdown",
   "metadata": {},
   "source": [
    "# testing some data"
   ]
  },
  {
   "cell_type": "code",
   "execution_count": 4,
   "metadata": {},
   "outputs": [],
   "source": [
    "test_data = [4.8, 2.5, 5.3, 2.4] #DATA FROM EXERCISE"
   ]
  },
  {
   "cell_type": "code",
   "execution_count": 5,
   "metadata": {},
   "outputs": [
    {
     "name": "stdout",
     "output_type": "stream",
     "text": [
      "The 20 closest neighbors of searched class [4.8, 2.5, 5.3, 2.4] are:\n",
      "class:  virginica\n",
      "class:  virginica\n",
      "class:  virginica\n",
      "class:  virginica\n",
      "class:  virginica\n",
      "class:  virginica\n",
      "class:  virginica\n",
      "class:  versicolor\n",
      "class:  versicolor\n",
      "class:  virginica\n",
      "class:  versicolor\n",
      "class:  versicolor\n",
      "class:  virginica\n",
      "class:  virginica\n",
      "class:  virginica\n",
      "class:  virginica\n",
      "class:  versicolor\n",
      "class:  versicolor\n",
      "class:  virginica\n",
      "class:  virginica\n",
      "Propability for virginica by examine next 20 neighbors is 70.0 %\n"
     ]
    }
   ],
   "source": [
    "clf = KNeighborsClassifier(20, data, names, labels, test_data)"
   ]
  },
  {
   "cell_type": "code",
   "execution_count": 6,
   "metadata": {},
   "outputs": [],
   "source": [
    "test_data = [5.2,4.1,1.5,0.1] "
   ]
  },
  {
   "cell_type": "code",
   "execution_count": 7,
   "metadata": {},
   "outputs": [
    {
     "name": "stdout",
     "output_type": "stream",
     "text": [
      "The 20 closest neighbors of searched class [5.2, 4.1, 1.5, 0.1] are:\n",
      "class:  setosa\n",
      "class:  setosa\n",
      "class:  setosa\n",
      "class:  setosa\n",
      "class:  setosa\n",
      "class:  setosa\n",
      "class:  setosa\n",
      "class:  setosa\n",
      "class:  setosa\n",
      "class:  setosa\n",
      "class:  setosa\n",
      "class:  setosa\n",
      "class:  setosa\n",
      "class:  setosa\n",
      "class:  setosa\n",
      "class:  setosa\n",
      "class:  setosa\n",
      "class:  setosa\n",
      "class:  setosa\n",
      "class:  setosa\n",
      "Propability for setosa by examine next 20 neighbors is 100.0 %\n"
     ]
    }
   ],
   "source": [
    "clf = KNeighborsClassifier(20, data, names, labels, test_data)"
   ]
  },
  {
   "cell_type": "code",
   "execution_count": 8,
   "metadata": {},
   "outputs": [],
   "source": [
    "test_data = [5.2,2.7,3.9,1.4]"
   ]
  },
  {
   "cell_type": "code",
   "execution_count": 9,
   "metadata": {},
   "outputs": [
    {
     "name": "stdout",
     "output_type": "stream",
     "text": [
      "The 20 closest neighbors of searched class [5.2, 2.7, 3.9, 1.4] are:\n",
      "class:  versicolor\n",
      "class:  versicolor\n",
      "class:  versicolor\n",
      "class:  versicolor\n",
      "class:  versicolor\n",
      "class:  versicolor\n",
      "class:  versicolor\n",
      "class:  versicolor\n",
      "class:  versicolor\n",
      "class:  versicolor\n",
      "class:  versicolor\n",
      "class:  versicolor\n",
      "class:  versicolor\n",
      "class:  versicolor\n",
      "class:  versicolor\n",
      "class:  versicolor\n",
      "class:  versicolor\n",
      "class:  versicolor\n",
      "class:  virginica\n",
      "class:  versicolor\n",
      "Propability for versicolor by examine next 20 neighbors is 95.0 %\n"
     ]
    }
   ],
   "source": [
    "clf = KNeighborsClassifier(20, data, names, labels, test_data)"
   ]
  },
  {
   "cell_type": "markdown",
   "metadata": {},
   "source": [
    "# using the class \"KNeighborsClassifier\" for just 2 dimensions"
   ]
  },
  {
   "cell_type": "code",
   "execution_count": 10,
   "metadata": {},
   "outputs": [],
   "source": [
    "data2 = iris.data[:,[0,1]]\n",
    "labels2 = iris.target\n",
    "names2 = iris.target_names"
   ]
  },
  {
   "cell_type": "code",
   "execution_count": 11,
   "metadata": {},
   "outputs": [],
   "source": [
    "test_data = [4.8, 2.5]"
   ]
  },
  {
   "cell_type": "code",
   "execution_count": 12,
   "metadata": {},
   "outputs": [
    {
     "name": "stdout",
     "output_type": "stream",
     "text": [
      "The 10 closest neighbors of searched class [4.8, 2.5] are:\n",
      "class:  virginica\n",
      "class:  versicolor\n",
      "class:  versicolor\n",
      "class:  versicolor\n",
      "class:  setosa\n",
      "class:  versicolor\n",
      "class:  setosa\n",
      "class:  setosa\n",
      "class:  setosa\n",
      "class:  versicolor\n",
      "Propability for virginica by examine next 10 neighbors is 10.0 %\n"
     ]
    }
   ],
   "source": [
    "clf = KNeighborsClassifier(10, data2, names2, labels2, test_data)"
   ]
  },
  {
   "cell_type": "code",
   "execution_count": 13,
   "metadata": {},
   "outputs": [],
   "source": [
    "test_data = [5.2,4.1] "
   ]
  },
  {
   "cell_type": "code",
   "execution_count": 14,
   "metadata": {},
   "outputs": [
    {
     "name": "stdout",
     "output_type": "stream",
     "text": [
      "The 10 closest neighbors of searched class [5.2, 4.1] are:\n",
      "class:  setosa\n",
      "class:  setosa\n",
      "class:  setosa\n",
      "class:  setosa\n",
      "class:  setosa\n",
      "class:  setosa\n",
      "class:  setosa\n",
      "class:  setosa\n",
      "class:  setosa\n",
      "class:  setosa\n",
      "Propability for setosa by examine next 10 neighbors is 100.0 %\n"
     ]
    }
   ],
   "source": [
    "clf = KNeighborsClassifier(10, data2, names2, labels2, test_data)"
   ]
  },
  {
   "cell_type": "markdown",
   "metadata": {},
   "source": [
    "# using class \"KNeighborsClassifier\" for simple categorization movies"
   ]
  },
  {
   "cell_type": "code",
   "execution_count": 15,
   "metadata": {},
   "outputs": [],
   "source": [
    "movies = np.array(pd.read_csv(\"movies.csv\"))"
   ]
  },
  {
   "cell_type": "code",
   "execution_count": 16,
   "metadata": {},
   "outputs": [],
   "source": [
    "data2 = movies[:,[0,1]]\n",
    "names2 = np.unique(movies[:,2])\n",
    "labels2 = movies[:,3]"
   ]
  },
  {
   "cell_type": "code",
   "execution_count": 17,
   "metadata": {},
   "outputs": [
    {
     "name": "stdout",
     "output_type": "stream",
     "text": [
      "[[3.0 104.0 'Romance' 0]\n",
      " [2.0 100.0 'Romance' 0]\n",
      " [1.0 81.0 'Romance' 0]\n",
      " [101.0 10.0 'Action' 1]\n",
      " [99.0 5.0 'Action' 1]\n",
      " [98.0 2.0 'Action' 1]\n",
      " [5.0 99.0 'Romance' 0]\n",
      " [8.0 110.0 'Romance' 0]\n",
      " [6.0 85.0 'Romance' 0]\n",
      " [120.0 12.0 'Action' 1]]\n"
     ]
    }
   ],
   "source": [
    "print(movies[:10])"
   ]
  },
  {
   "cell_type": "code",
   "execution_count": 18,
   "metadata": {},
   "outputs": [],
   "source": [
    "test_data2 = [5.0, 140.0]"
   ]
  },
  {
   "cell_type": "code",
   "execution_count": 19,
   "metadata": {},
   "outputs": [
    {
     "name": "stdout",
     "output_type": "stream",
     "text": [
      "The 5 closest neighbors of searched class [5.0, 140.0] are:\n",
      "class:  Action\n",
      "class:  Action\n",
      "class:  Action\n",
      "class:  Action\n",
      "class:  Action\n",
      "Propability for Action by examine next 5 neighbors is 100.0 %\n"
     ]
    }
   ],
   "source": [
    "clf1 = KNeighborsClassifier(5, data2, names2, labels2, test_data2)"
   ]
  },
  {
   "cell_type": "code",
   "execution_count": 20,
   "metadata": {},
   "outputs": [],
   "source": [
    "test_data2 = [140.0, 2.0]"
   ]
  },
  {
   "cell_type": "code",
   "execution_count": 21,
   "metadata": {},
   "outputs": [
    {
     "name": "stdout",
     "output_type": "stream",
     "text": [
      "The 5 closest neighbors of searched class [140.0, 2.0] are:\n",
      "class:  Romance\n",
      "class:  Romance\n",
      "class:  Romance\n",
      "class:  Romance\n",
      "class:  Romance\n",
      "Propability for Romance by examine next 5 neighbors is 100.0 %\n"
     ]
    }
   ],
   "source": [
    "clf1 = KNeighborsClassifier(5, data2, names2, labels2, test_data2)"
   ]
  },
  {
   "cell_type": "code",
   "execution_count": 21,
   "metadata": {},
   "outputs": [],
   "source": []
  },
  {
   "cell_type": "code",
   "execution_count": 21,
   "metadata": {},
   "outputs": [],
   "source": []
  }
 ],
 "metadata": {
  "kernelspec": {
   "display_name": "Python 3",
   "language": "python",
   "name": "python3"
  },
  "language_info": {
   "codemirror_mode": {
    "name": "ipython",
    "version": 3
   },
   "file_extension": ".py",
   "mimetype": "text/x-python",
   "name": "python",
   "nbconvert_exporter": "python",
   "pygments_lexer": "ipython3",
   "version": "3.8.5"
  }
 },
 "nbformat": 4,
 "nbformat_minor": 1
}
